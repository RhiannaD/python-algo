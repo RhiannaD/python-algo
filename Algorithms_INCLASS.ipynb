{
 "cells": [
  {
   "attachments": {},
   "cell_type": "markdown",
   "metadata": {},
   "source": [
    "# Algorithms, Binary Search & Linked Lists"
   ]
  },
  {
   "attachments": {},
   "cell_type": "markdown",
   "metadata": {},
   "source": [
    "## Tasks Today:\n",
    " \n",
    "1) <b>In-Place Algorithms</b> <br>\n",
    " &nbsp;&nbsp;&nbsp;&nbsp; a) Syntax <br>\n",
    " &nbsp;&nbsp;&nbsp;&nbsp; a) Out of Place Algorithm <br>\n",
    " &nbsp;&nbsp;&nbsp;&nbsp; b) In-Class Exercise #1 <br>\n",
    "2) <b>Two Pointers</b> <br>\n",
    "3) <b>Linked Lists</b> <br>\n",
    "4) <b>Merge Sort</b> <br>\n",
    " &nbsp;&nbsp;&nbsp;&nbsp; a) Video on Algorithms <br>\n",
    " &nbsp;&nbsp;&nbsp;&nbsp; b) How it Works <br>\n",
    "5) <b>Exercises</b> <br>\n",
    " &nbsp;&nbsp;&nbsp;&nbsp; a) Exercise #1 - Reverse a List in Place Using an In-Place Algorithm <br>\n",
    " &nbsp;&nbsp;&nbsp;&nbsp; b) Exercise #2 - Find Distinct Words <br>\n",
    " &nbsp;&nbsp;&nbsp;&nbsp; c) Exercise #3 - Write a program to implement a Linear Search Algorithm. <br>"
   ]
  },
  {
   "attachments": {},
   "cell_type": "markdown",
   "metadata": {},
   "source": [
    "## In-Place Algorithms"
   ]
  },
  {
   "attachments": {},
   "cell_type": "markdown",
   "metadata": {},
   "source": [
    "#### Syntax"
   ]
  },
  {
   "cell_type": "code",
   "execution_count": 3,
   "metadata": {},
   "outputs": [
    {
     "name": "stdout",
     "output_type": "stream",
     "text": [
      "[2, 6, 2, 5, 6]\n",
      "[2, 2, 5, 6, 6]\n",
      "140321109922496\n",
      "before swap[12, 3, 56, 75]\n",
      "140321109922496\n",
      "after swap[3, 56, 12, 75]\n"
     ]
    }
   ],
   "source": [
    "a_list = [2,6,2,5,6]\n",
    "\n",
    "sorted(a_list)\n",
    "\n",
    "print(a_list)\n",
    "\n",
    "#out of place func creating a copy then you need to store it somewhere else\n",
    "\n",
    "a_list = [2,6,2,5,6]\n",
    "\n",
    "a_list.sort()\n",
    "\n",
    "print(a_list)\n",
    "\n",
    "# in place changing it directly\n",
    "\n",
    "def swap(alist, x, y, z):\n",
    "    alist[x], alist[y], alist[z] = alist[y], alist[z], alist[x]\n",
    "\n",
    "this_list = [12,3,56,75]\n",
    "\n",
    "print(id(this_list))\n",
    "print(f'before swap{this_list}')\n",
    "\n",
    "swap(this_list, 0, 1, 2)\n",
    "\n",
    "print(id(this_list))\n",
    "print(f'after swap{this_list}')"
   ]
  },
  {
   "attachments": {},
   "cell_type": "markdown",
   "metadata": {},
   "source": [
    "#### Out of Place Algorithm"
   ]
  },
  {
   "cell_type": "code",
   "execution_count": 7,
   "metadata": {},
   "outputs": [
    {
     "name": "stdout",
     "output_type": "stream",
     "text": [
      "before the swap ['a', 'b', 'c', 'd']\n",
      "140321109593920\n",
      "after the swap['d', 'c', 'b', 'a']\n",
      "140321109265920\n"
     ]
    }
   ],
   "source": [
    "my_list = ['a','b', 'c', 'd']\n",
    "\n",
    "print(f'before the swap {my_list}')\n",
    "print(id(my_list))\n",
    "\n",
    "def my_swap(alist):\n",
    "    output=[]\n",
    "    for letter in alist[::-1]:\n",
    "        output.append(letter)\n",
    "\n",
    "    return output\n",
    "\n",
    "my_list = my_swap(my_list)\n",
    "\n",
    "print(f'after the swap{my_list}')\n",
    "print(id(my_list))\n"
   ]
  },
  {
   "attachments": {},
   "cell_type": "markdown",
   "metadata": {},
   "source": [
    "#### In-Class Exercise #1 <br>\n",
    "<p>Write a function that takes in four arguments (list, index1, index2, index3), and swaps those three positions in the list passed in.</p>"
   ]
  },
  {
   "cell_type": "code",
   "execution_count": 3,
   "metadata": {},
   "outputs": [],
   "source": [
    "l_1 = [10, 4, 3, 8, 4, 2, 6]\n",
    "def swap(alist, x, y, z):\n",
    "    alist[x], alist[y], alist[z] = alist[y], alist[z], alist[x]\n",
    "    return alist\n",
    "\n"
   ]
  },
  {
   "attachments": {},
   "cell_type": "markdown",
   "metadata": {},
   "source": [
    "## Two Pointers"
   ]
  },
  {
   "attachments": {},
   "cell_type": "markdown",
   "metadata": {},
   "source": [
    "#### Syntax"
   ]
  },
  {
   "cell_type": "code",
   "execution_count": 11,
   "metadata": {},
   "outputs": [
    {
     "name": "stdout",
     "output_type": "stream",
     "text": [
      "[11, 10, 9, 8, 7, 6, 5, 4, 3, 2, 1]\n"
     ]
    }
   ],
   "source": [
    "test_list = [1,2,3,4,5,6,7,8,9,10,11]\n",
    "\n",
    "def two_pointer(a_list):\n",
    "    left =0\n",
    "    right =len(a_list)-1\n",
    "    while left <= right:\n",
    "        a_list[left], a_list[right] = a_list[right], a_list[left]\n",
    "        left += 1\n",
    "        right -= 1\n",
    "\n",
    "    return a_list\n",
    "\n",
    "print(two_pointer(test_list))"
   ]
  },
  {
   "attachments": {},
   "cell_type": "markdown",
   "metadata": {},
   "source": [
    "#### Video of Algorithms <br>\n",
    "<p>Watch the video about algorithms.</p>\n",
    "\n",
    "https://www.youtube.com/watch?v=Q9HjeFD62Uk\n",
    "\n",
    "https://www.youtube.com/watch?v=kPRA0W1kECg\n",
    "\n",
    "https://www.youtube.com/watch?v=ZZuD6iUe3Pc"
   ]
  },
  {
   "attachments": {},
   "cell_type": "markdown",
   "metadata": {},
   "source": [
    "# Sorting Algorithms"
   ]
  },
  {
   "attachments": {},
   "cell_type": "markdown",
   "metadata": {},
   "source": [
    "#### Bubble Sort\n",
    "\n",
    "Worst Case: O(n^2) Time - O(1) Space"
   ]
  },
  {
   "cell_type": "code",
   "execution_count": 8,
   "metadata": {},
   "outputs": [
    {
     "name": "stdout",
     "output_type": "stream",
     "text": [
      "1\n",
      "[8, 5, 2, 9, 5, 6, 3]\n"
     ]
    },
    {
     "ename": "TypeError",
     "evalue": "'list' object is not callable",
     "output_type": "error",
     "traceback": [
      "\u001b[0;31m---------------------------------------------------------------------------\u001b[0m",
      "\u001b[0;31mTypeError\u001b[0m                                 Traceback (most recent call last)",
      "Cell \u001b[0;32mIn[8], line 24\u001b[0m\n\u001b[1;32m     19\u001b[0m                 \u001b[39msorted\u001b[39m \u001b[39m=\u001b[39m \u001b[39mFalse\u001b[39;00m\n\u001b[1;32m     21\u001b[0m     \u001b[39mreturn\u001b[39;00m alist\n\u001b[0;32m---> 24\u001b[0m bubbleSort(\u001b[39minput\u001b[39;49m)\n",
      "Cell \u001b[0;32mIn[8], line 17\u001b[0m, in \u001b[0;36mbubbleSort\u001b[0;34m(alist)\u001b[0m\n\u001b[1;32m     15\u001b[0m \u001b[39mfor\u001b[39;00m i \u001b[39min\u001b[39;00m \u001b[39mrange\u001b[39m(\u001b[39mlen\u001b[39m(alist)\u001b[39m-\u001b[39m\u001b[39m1\u001b[39m):\n\u001b[1;32m     16\u001b[0m     \u001b[39mprint\u001b[39m(alist)\n\u001b[0;32m---> 17\u001b[0m     \u001b[39mif\u001b[39;00m alist[i] \u001b[39m>\u001b[39m alist(i\u001b[39m+\u001b[39;49m\u001b[39m1\u001b[39;49m):\n\u001b[1;32m     18\u001b[0m         swap(alist, i , i \u001b[39m+\u001b[39m\u001b[39m1\u001b[39m)\n\u001b[1;32m     19\u001b[0m         \u001b[39msorted\u001b[39m \u001b[39m=\u001b[39m \u001b[39mFalse\u001b[39;00m\n",
      "\u001b[0;31mTypeError\u001b[0m: 'list' object is not callable"
     ]
    }
   ],
   "source": [
    "input = [8, 5, 2, 9, 5, 6, 3]\n",
    "\n",
    "def swap(alist, x, y):\n",
    "    alist[x], alist[y] = alist[y], alist[x]\n",
    "    # when doing inplace you don't need to return\n",
    "\n",
    "def bubbleSort(alist):\n",
    "    sorted = False\n",
    "\n",
    "    p = 0\n",
    "    while not sorted:\n",
    "        p+=1\n",
    "        print(p)\n",
    "        sorted = True\n",
    "        for i in range(len(alist)-1):\n",
    "            print(alist)\n",
    "            if alist[i] > alist(i+1):\n",
    "                swap(alist, i , i +1)\n",
    "                sorted = False\n",
    "\n",
    "    return alist\n",
    "\n",
    "\n",
    "bubbleSort(input)"
   ]
  },
  {
   "attachments": {},
   "cell_type": "markdown",
   "metadata": {},
   "source": [
    "##### Insertion Sort\n",
    "\n",
    "Worst Case: O(n^2) time - O(1)space"
   ]
  },
  {
   "cell_type": "code",
   "execution_count": 23,
   "metadata": {},
   "outputs": [
    {
     "name": "stdout",
     "output_type": "stream",
     "text": [
      "[8]\n",
      "5\n",
      "[8, 5]\n",
      "[5, 8]\n",
      "2\n",
      "[5, 8, 2]\n",
      "[5, 2, 8]\n",
      "[2, 5, 8]\n",
      "9\n",
      "[2, 5, 8, 9]\n",
      "5\n",
      "[2, 5, 8, 9, 5]\n",
      "[2, 5, 8, 5, 9]\n",
      "[2, 5, 5, 8, 9]\n",
      "6\n",
      "[2, 5, 5, 8, 9, 6]\n",
      "[2, 5, 5, 8, 6, 9]\n",
      "[2, 5, 5, 6, 8, 9]\n",
      "3\n",
      "[2, 5, 5, 6, 8, 9, 3]\n",
      "[2, 5, 5, 6, 8, 3, 9]\n",
      "[2, 5, 5, 6, 3, 8, 9]\n",
      "[2, 5, 5, 3, 6, 8, 9]\n",
      "[2, 5, 3, 5, 6, 8, 9]\n",
      "[2, 3, 5, 5, 6, 8, 9]\n"
     ]
    }
   ],
   "source": [
    "input = [8, 5, 2, 9, 5, 6, 3]\n",
    "\n",
    "def swap(alist, x, y):\n",
    "    alist[x], alist[y] = alist[y], alist[x]\n",
    "\n",
    "def insertionSort(alist):\n",
    "    for i in range(1, len(alist)):\n",
    "        p = i\n",
    "        print(alist[:i])\n",
    "        print(alist[i])\n",
    "        while i > 0 and alist[i] < alist[i-1]:\n",
    "            print(alist[:p+1])\n",
    "            swap(alist, i, i-1)\n",
    "            i -=1\n",
    "    return alist\n",
    "\n",
    "print(insertionSort(input))"
   ]
  },
  {
   "attachments": {},
   "cell_type": "markdown",
   "metadata": {},
   "source": [
    "## Merge Sort"
   ]
  },
  {
   "attachments": {},
   "cell_type": "markdown",
   "metadata": {},
   "source": [
    "#### How it Works"
   ]
  },
  {
   "cell_type": "code",
   "execution_count": 27,
   "metadata": {},
   "outputs": [
    {
     "ename": "UnboundLocalError",
     "evalue": "local variable 'left_half' referenced before assignment",
     "output_type": "error",
     "traceback": [
      "\u001b[0;31m---------------------------------------------------------------------------\u001b[0m",
      "\u001b[0;31mUnboundLocalError\u001b[0m                         Traceback (most recent call last)",
      "Cell \u001b[0;32mIn[27], line 44\u001b[0m\n\u001b[1;32m     40\u001b[0m             k\u001b[39m+\u001b[39m\u001b[39m=\u001b[39m\u001b[39m1\u001b[39m\n\u001b[1;32m     42\u001b[0m     \u001b[39mreturn\u001b[39;00m a_list\n\u001b[0;32m---> 44\u001b[0m \u001b[39mprint\u001b[39m(mergeSort(\u001b[39minput\u001b[39;49m))\n",
      "Cell \u001b[0;32mIn[27], line 10\u001b[0m, in \u001b[0;36mmergeSort\u001b[0;34m(a_list)\u001b[0m\n\u001b[1;32m      7\u001b[0m     left_half \u001b[39m=\u001b[39m a_list[:middle]\n\u001b[1;32m      8\u001b[0m     right_half \u001b[39m=\u001b[39m a_list[middle:]\n\u001b[0;32m---> 10\u001b[0m mergeSort(left_half)\n\u001b[1;32m     11\u001b[0m mergeSort(right_half)\n\u001b[1;32m     13\u001b[0m \u001b[39m# index point for our list \u001b[39;00m\n",
      "Cell \u001b[0;32mIn[27], line 10\u001b[0m, in \u001b[0;36mmergeSort\u001b[0;34m(a_list)\u001b[0m\n\u001b[1;32m      7\u001b[0m     left_half \u001b[39m=\u001b[39m a_list[:middle]\n\u001b[1;32m      8\u001b[0m     right_half \u001b[39m=\u001b[39m a_list[middle:]\n\u001b[0;32m---> 10\u001b[0m mergeSort(left_half)\n\u001b[1;32m     11\u001b[0m mergeSort(right_half)\n\u001b[1;32m     13\u001b[0m \u001b[39m# index point for our list \u001b[39;00m\n",
      "Cell \u001b[0;32mIn[27], line 10\u001b[0m, in \u001b[0;36mmergeSort\u001b[0;34m(a_list)\u001b[0m\n\u001b[1;32m      7\u001b[0m     left_half \u001b[39m=\u001b[39m a_list[:middle]\n\u001b[1;32m      8\u001b[0m     right_half \u001b[39m=\u001b[39m a_list[middle:]\n\u001b[0;32m---> 10\u001b[0m mergeSort(left_half)\n\u001b[1;32m     11\u001b[0m mergeSort(right_half)\n\u001b[1;32m     13\u001b[0m \u001b[39m# index point for our list \u001b[39;00m\n",
      "\u001b[0;31mUnboundLocalError\u001b[0m: local variable 'left_half' referenced before assignment"
     ]
    }
   ],
   "source": [
    "input = [8, 5, 2, 9, 5, 6, 3]\n",
    "\n",
    "def mergeSort(a_list):\n",
    "\n",
    "    if len(a_list) > 1:\n",
    "        middle = len(a_list)// 2 \n",
    "        left_half = a_list[:middle]\n",
    "        right_half = a_list[middle:]\n",
    "\n",
    "    mergeSort(left_half)\n",
    "    mergeSort(right_half)\n",
    "\n",
    "    # index point for our list \n",
    "    i = 0 # pointer for left\n",
    "    j = 0 # point for right half\n",
    "    k = 0 # pointer for main list that we're merging into\n",
    "\n",
    "\n",
    "    # compare the left and right\n",
    "\n",
    "    while i <len(left_half) and j < len(right_half):\n",
    "        if left_half[i] < right_half[j]:\n",
    "            a_list[k] = left_half[i]\n",
    "            i += 1\n",
    "        else:\n",
    "            a_list[k] = right_half[j]\n",
    "            j+=1\n",
    "        k+=1\n",
    "\n",
    "     # fills in from list that is not empty\n",
    "\n",
    "        while i < len(left_half):\n",
    "            a_list[k] = left_half[i]\n",
    "            i += 1\n",
    "            k += 1\n",
    "\n",
    "        while i < len(right_half):\n",
    "            a_list[k] = right_half[j]\n",
    "            j+=1\n",
    "            k+=1\n",
    "\n",
    "    return a_list\n",
    "\n",
    "print(mergeSort(input))\n",
    "\n"
   ]
  },
  {
   "attachments": {},
   "cell_type": "markdown",
   "metadata": {},
   "source": [
    "# Binary Search\n",
    "\n",
    "The Binary Search algorithm works by finding the number in the middle of a given array and comparing it to the target. Given that the array is sorted\n",
    "\n",
    "* The worst case run time for this algorithm is `O(log(n))`"
   ]
  },
  {
   "cell_type": "code",
   "execution_count": 11,
   "metadata": {},
   "outputs": [
    {
     "data": {
      "text/plain": [
       "'winner 7 and the 2 index'"
      ]
     },
     "execution_count": 11,
     "metadata": {},
     "output_type": "execute_result"
    }
   ],
   "source": [
    "def binarySearch(a_list,target):\n",
    "    left= 0\n",
    "    right = len(a_list)\n",
    "    while left<= right:\n",
    "        middle = (left +right)//2\n",
    "        potential_match = a_list[middle]\n",
    "        if target == potential_match:\n",
    "            return f'winner {target} and the {middle} index' \n",
    "        elif target < potential_match:\n",
    "            right = middle -1\n",
    "        else:\n",
    "            left = middle + 1\n",
    "    return 'target not in list'\n",
    "\n",
    "binarySearch([1,5,7,18,30,50,70,86,1003], 7)"
   ]
  },
  {
   "attachments": {},
   "cell_type": "markdown",
   "metadata": {},
   "source": [
    "# Exercises"
   ]
  },
  {
   "attachments": {},
   "cell_type": "markdown",
   "metadata": {},
   "source": [
    "### Exercise #1 <br>\n",
    "<p>Reverse the list below in-place using an in-place algorithm.<br>For extra credit: Reverse the strings at the same time.</p>"
   ]
  },
  {
   "cell_type": "code",
   "execution_count": 21,
   "metadata": {},
   "outputs": [
    {
     "name": "stdout",
     "output_type": "stream",
     "text": [
      "['sentence', 'a', 'is', 'this', '.']\n",
      "['this', 'sentence', 'is', 'a', '.']\n",
      "['.', 'siht', 'si', 'a', 'ecnetnes']\n"
     ]
    }
   ],
   "source": [
    "\n",
    "\n",
    "words = ['this' , 'is', 'a', 'sentence', '.']\n",
    "\n",
    "#reverse(words)\n",
    "#print(words) in reverse\n",
    "def swap(word,w, x, y, z,):\n",
    "    words[w],word[x], word[y], word[z] = word[z], word[y], word[x],word[w]\n",
    "    return word\n",
    "\n",
    "print(swap(words, 0, 1 ,2, 3))\n",
    "print(sorted(words, reverse=True))\n",
    "\n",
    "\n",
    "def two_pointer(a_list):\n",
    "    left =0\n",
    "    right =len(a_list)-1\n",
    "    while left <= right:\n",
    "        a_list[left], a_list[right] = a_list[right][::-1], a_list[left][::-1]\n",
    "        left += 1\n",
    "        right -= 1\n",
    "\n",
    "    return a_list\n",
    "\n",
    "print(two_pointer(words))\n",
    "\n",
    "\n"
   ]
  },
  {
   "attachments": {},
   "cell_type": "markdown",
   "metadata": {},
   "source": [
    "### Exercise #2 <br>\n",
    "<p>Create a function that counts how many distinct words are in the string below, then outputs a dictionary with the words as the key and the value as the amount of times that word appears in the string.<br>Should output:<br>{'a': 5,<br>\n",
    " 'abstract': 1,<br>\n",
    " 'an': 3,<br>\n",
    " 'array': 2, ... etc...</p>"
   ]
  },
  {
   "cell_type": "code",
   "execution_count": 25,
   "metadata": {},
   "outputs": [
    {
     "name": "stdout",
     "output_type": "stream",
     "text": [
      "['in', 'computing,', 'a', 'hash', 'table', 'hash', 'map', 'is', 'a', 'data', 'structure', 'which', 'implements', 'an', 'associative', 'array', 'abstract', 'data', 'type,', 'a', 'structure', 'that', 'can', 'map', 'keys', 'to', 'values.', 'a', 'hash', 'table', 'uses', 'a', 'hash', 'function', 'to', 'compute', 'an', 'index', 'into', 'an', 'array', 'of', 'buckets', 'or', 'slots', 'from', 'which', 'the', 'desired', 'value', 'can', 'be', 'found']\n",
      "['a', 'a', 'a', 'a', 'a', 'abstract', 'an', 'an', 'an', 'array', 'array', 'associative', 'be', 'buckets', 'can', 'can', 'compute', 'computing,', 'data', 'data', 'desired', 'found', 'from', 'function', 'hash', 'hash', 'hash', 'hash', 'implements', 'in', 'index', 'into', 'is', 'keys', 'map', 'map', 'of', 'or', 'slots', 'structure', 'structure', 'table', 'table', 'that', 'the', 'to', 'to', 'type,', 'uses', 'value', 'values.', 'which', 'which']\n",
      "{'a': 5, 'abstract': 1, 'an': 3, 'array': 2, 'associative': 1, 'be': 1, 'buckets': 1, 'can': 2, 'compute': 1, 'computing,': 1, 'data': 2, 'desired': 1, 'found': 1, 'from': 1, 'function': 1, 'hash': 4, 'implements': 1, 'in': 1, 'index': 1, 'into': 1, 'is': 1, 'keys': 1, 'map': 2, 'of': 1, 'or': 1, 'slots': 1, 'structure': 2, 'table': 2, 'that': 1, 'the': 1, 'to': 2, 'type,': 1, 'uses': 1, 'value': 1, 'values.': 1, 'which': 2}\n"
     ]
    }
   ],
   "source": [
    "a_text = 'In computing, a hash table hash map is a data structure which implements an associative array abstract data type, a structure that can map keys to values. A hash table uses a hash function to compute an index into an array of buckets or slots from which the desired value can be found'\n",
    "\n",
    "# use sorted? think about upper case and lower case find a way to split\n",
    "# pay attention to commas\n",
    "# words and how many times they appear\n",
    "\n",
    "new_new = a_text.lower().split()\n",
    "print(new_new)\n",
    "\n",
    "words = sorted(new_new)\n",
    "print(words)\n",
    "\n",
    "\n",
    "\n",
    "def numz(a_list):\n",
    "    new ={}\n",
    "    for a in a_list:\n",
    "        if a in new:\n",
    "            new[a]+=1\n",
    "            \n",
    "        else:\n",
    "            new[a]=1\n",
    "    return new\n",
    "\n",
    "print(numz(words))\n",
    "\n",
    "\n",
    "\n",
    "\n"
   ]
  },
  {
   "attachments": {},
   "cell_type": "markdown",
   "metadata": {},
   "source": [
    "## Exercise #3\n",
    "\n",
    "Write a program to implement a Linear Search Algorithm. Also in a comment, write the Time Complexity of the following algorithm.\n",
    "\n",
    "#### Hint: Linear Searching will require searching a list for a given number. "
   ]
  },
  {
   "cell_type": "code",
   "execution_count": 10,
   "metadata": {},
   "outputs": [
    {
     "name": "stdout",
     "output_type": "stream",
     "text": [
      "yes 5 is in [1, 5, 7, 18, 30, 50, 70, 86, 1003]\n"
     ]
    }
   ],
   "source": [
    "# is going to search consecutively\n",
    "# make the binary to linear\n",
    "# you probaly have done it before\n",
    "\n",
    "search=[1,5,7,18,30,50,70,86,1003]\n",
    "\n",
    "def look(s,booly):\n",
    "     if booly in s:\n",
    "        for i in s:\n",
    "            return f'yes {booly} is in {s}'\n",
    "     else:\n",
    "         print('nah')\n",
    "\n",
    "print(look(search,5))\n",
    "\n",
    "\n",
    "\n",
    "# time complexity O(n)"
   ]
  }
 ],
 "metadata": {
  "kernelspec": {
   "display_name": "Python 3",
   "language": "python",
   "name": "python3"
  },
  "language_info": {
   "codemirror_mode": {
    "name": "ipython",
    "version": 3
   },
   "file_extension": ".py",
   "mimetype": "text/x-python",
   "name": "python",
   "nbconvert_exporter": "python",
   "pygments_lexer": "ipython3",
   "version": "3.9.12"
  }
 },
 "nbformat": 4,
 "nbformat_minor": 2
}
